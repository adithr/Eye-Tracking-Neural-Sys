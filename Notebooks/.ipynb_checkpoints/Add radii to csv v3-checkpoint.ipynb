{
 "cells": [
  {
   "cell_type": "markdown",
   "id": "occupational-reading",
   "metadata": {},
   "source": [
    "## Add radii to csv\n",
    "\n",
    "This script adds the average radii for each participant to csv for further analysis (i.e. linear regression) using R."
   ]
  },
  {
   "cell_type": "code",
   "execution_count": 5,
   "id": "fifteen-apple",
   "metadata": {},
   "outputs": [
    {
     "ename": "ModuleNotFoundError",
     "evalue": "No module named 'edfreader'",
     "output_type": "error",
     "traceback": [
      "\u001b[1;31m---------------------------------------------------------------------------\u001b[0m",
      "\u001b[1;31mModuleNotFoundError\u001b[0m                       Traceback (most recent call last)",
      "\u001b[1;32m<ipython-input-5-468013f4976f>\u001b[0m in \u001b[0;36m<module>\u001b[1;34m\u001b[0m\n\u001b[0;32m      1\u001b[0m \u001b[1;31m#Import all functions\u001b[0m\u001b[1;33m\u001b[0m\u001b[1;33m\u001b[0m\u001b[1;33m\u001b[0m\u001b[0m\n\u001b[1;32m----> 2\u001b[1;33m \u001b[1;32mfrom\u001b[0m \u001b[0mpygazeanalyser_functions\u001b[0m \u001b[1;32mimport\u001b[0m \u001b[1;33m*\u001b[0m\u001b[1;33m\u001b[0m\u001b[1;33m\u001b[0m\u001b[0m\n\u001b[0m\u001b[0;32m      3\u001b[0m \u001b[1;33m\u001b[0m\u001b[0m\n\u001b[0;32m      4\u001b[0m \u001b[1;31m#import csv library and pandas\u001b[0m\u001b[1;33m\u001b[0m\u001b[1;33m\u001b[0m\u001b[1;33m\u001b[0m\u001b[0m\n\u001b[0;32m      5\u001b[0m \u001b[1;32mimport\u001b[0m \u001b[0mcsv\u001b[0m\u001b[1;33m\u001b[0m\u001b[1;33m\u001b[0m\u001b[0m\n",
      "\u001b[1;32m~\\Documents\\GitHub\\Eye-Tracking-Neural-Sys\\Notebooks\\pygazeanalyser_functions.py\u001b[0m in \u001b[0;36m<module>\u001b[1;34m\u001b[0m\n\u001b[0;32m      6\u001b[0m \u001b[1;31m#pygaze imports\u001b[0m\u001b[1;33m\u001b[0m\u001b[1;33m\u001b[0m\u001b[1;33m\u001b[0m\u001b[0m\n\u001b[0;32m      7\u001b[0m \u001b[1;31m#from pygaze import *\u001b[0m\u001b[1;33m\u001b[0m\u001b[1;33m\u001b[0m\u001b[1;33m\u001b[0m\u001b[0m\n\u001b[1;32m----> 8\u001b[1;33m \u001b[1;32mfrom\u001b[0m \u001b[0medfreader\u001b[0m \u001b[1;32mimport\u001b[0m \u001b[1;33m*\u001b[0m\u001b[1;33m\u001b[0m\u001b[1;33m\u001b[0m\u001b[0m\n\u001b[0m\u001b[0;32m      9\u001b[0m \u001b[1;32mfrom\u001b[0m \u001b[0mgazeplotter\u001b[0m \u001b[1;32mimport\u001b[0m \u001b[1;33m*\u001b[0m\u001b[1;33m\u001b[0m\u001b[1;33m\u001b[0m\u001b[0m\n\u001b[0;32m     10\u001b[0m \u001b[1;33m\u001b[0m\u001b[0m\n",
      "\u001b[1;31mModuleNotFoundError\u001b[0m: No module named 'edfreader'"
     ]
    }
   ],
   "source": [
    "#Import all functions \n",
    "from pygazeanalyser_functions import *\n",
    "\n",
    "#import csv library and pandas\n",
    "import csv\n",
    "import pandas as pd\n",
    "import matplotlib"
   ]
  },
  {
   "cell_type": "code",
   "execution_count": 4,
   "id": "young-dining",
   "metadata": {
    "scrolled": true
   },
   "outputs": [
    {
     "ename": "NameError",
     "evalue": "name 'pd' is not defined",
     "output_type": "error",
     "traceback": [
      "\u001b[1;31m---------------------------------------------------------------------------\u001b[0m",
      "\u001b[1;31mNameError\u001b[0m                                 Traceback (most recent call last)",
      "\u001b[1;32m<ipython-input-4-f57f61422e27>\u001b[0m in \u001b[0;36m<module>\u001b[1;34m\u001b[0m\n\u001b[0;32m     18\u001b[0m \u001b[1;31m#  pass  # or write something to it\u001b[0m\u001b[1;33m\u001b[0m\u001b[1;33m\u001b[0m\u001b[1;33m\u001b[0m\u001b[0m\n\u001b[0;32m     19\u001b[0m \u001b[1;33m\u001b[0m\u001b[0m\n\u001b[1;32m---> 20\u001b[1;33m \u001b[0mdf\u001b[0m \u001b[1;33m=\u001b[0m \u001b[0mpd\u001b[0m\u001b[1;33m.\u001b[0m\u001b[0mread_csv\u001b[0m\u001b[1;33m(\u001b[0m\u001b[1;34m\"results_data_subjects_V2.csv\"\u001b[0m\u001b[1;33m)\u001b[0m \u001b[1;31m#this is the output csv for delta mean radius by subject\u001b[0m\u001b[1;33m\u001b[0m\u001b[1;33m\u001b[0m\u001b[0m\n\u001b[0m\u001b[0;32m     21\u001b[0m \u001b[1;31m#df2 = pd.read_csv(\"results_data_games.csv\") #this is the output csv for delta mean radius by game\u001b[0m\u001b[1;33m\u001b[0m\u001b[1;33m\u001b[0m\u001b[1;33m\u001b[0m\u001b[0m\n\u001b[0;32m     22\u001b[0m \u001b[0mdf_original\u001b[0m \u001b[1;33m=\u001b[0m \u001b[0mpd\u001b[0m\u001b[1;33m.\u001b[0m\u001b[0mread_csv\u001b[0m\u001b[1;33m(\u001b[0m\u001b[1;34m\"noise_data_trials.csv\"\u001b[0m\u001b[1;33m)\u001b[0m \u001b[1;31m#this is the input csv containing information about the noise\u001b[0m\u001b[1;33m\u001b[0m\u001b[1;33m\u001b[0m\u001b[0m\n",
      "\u001b[1;31mNameError\u001b[0m: name 'pd' is not defined"
     ]
    }
   ],
   "source": [
    "#participant details\n",
    "\n",
    "PIDs = [\"002\",\"003\",\"004\",\"005\",\"006\",\"007\",\"008\",\"009\",\"010\",\n",
    "        \"011\",\"012\",\"013\",\"014\",\"015\",\"016\",\"017\",\"018\",\"019\",\"020\",\n",
    "        \"021\",\"022\",\"023\",\"024\",\"025\",\"026\",\"027\",\"028\",\"029\",\"030\",\n",
    "        \"031\",\"032\",\"033\",\"034\",\"035\",\"036\"] #all the participant IDs\n",
    "PIDs = [\"033\",\"034\",\"035\",\"036\"]\n",
    "game_nrs  = [1,2,3,4,5,6,7,8,9,10,11,12,13,14,15,16] #game numbers\n",
    "trial_nrs = [0,1,2,3,4,5,6,7,8,9,10,11,12,13,14,15] #trial 16 and 17 are \"out of index\"\n",
    "#phase = 'fixation'\n",
    "phase = 'stimulus'\n",
    "lenData = 35 #we have 35 participants\n",
    "dataCol = 1 #coloumn nr of \"Delta_radius\" in the new csv file, actually 2, but python starts with index 0\n",
    "\n",
    "#if the csv file doesn't exist yet:\n",
    "#with open(\"foo.csv\", \"w\") as my_empty_csv:\n",
    "#  # now you have an empty file\n",
    "#  pass  # or write something to it\n",
    "\n",
    "df = pd.read_csv(\"results_data_subjects_V2.csv\") #this is the output csv for delta mean radius by subject\n",
    "#df2 = pd.read_csv(\"results_data_games.csv\") #this is the output csv for delta mean radius by game\n",
    "df_original = pd.read_csv(\"noise_data_trials.csv\") #this is the input csv containing information about the noise\n",
    "#print(df)\n",
    "#print(df_original)\n",
    "\n",
    "radii_list = df['delta_radius']\n",
    "print(radii_list)\n",
    "#radii_list2 = df2['delta_radius']\n",
    "noise_list = df_original['perc_noise']\n",
    "radii_list = radii_list.values.tolist()\n",
    "#radii_list2 = radii_list2.values.tolist()\n",
    "noise_list = noise_list.values.tolist()\n",
    "print(\"list: \", radii_list)\n",
    "\n",
    "nan = radii_list[34] #save nan as nan, only if the delta_radii in the output was empty in the beginning\n",
    "#nan = \"nan\""
   ]
  },
  {
   "cell_type": "code",
   "execution_count": 3,
   "id": "greenhouse-caribbean",
   "metadata": {
    "scrolled": false
   },
   "outputs": [
    {
     "name": "stderr",
     "output_type": "stream",
     "text": [
      "c:\\users\\sijam\\appdata\\local\\programs\\python\\python39\\lib\\site-packages\\numpy\\core\\fromnumeric.py:3419: RuntimeWarning: Mean of empty slice.\n",
      "  return _methods._mean(a, axis=axis, dtype=dtype,\n",
      "c:\\users\\sijam\\appdata\\local\\programs\\python\\python39\\lib\\site-packages\\numpy\\core\\_methods.py:188: RuntimeWarning: invalid value encountered in double_scalars\n",
      "  ret = ret.dtype.type(ret / rcount)\n"
     ]
    },
    {
     "name": "stdout",
     "output_type": "stream",
     "text": [
      "33  game  1  done!\n",
      "33  game  2  done!\n",
      "33  game  3  done!\n",
      "33  game  4  done!\n",
      "33  game  5  done!\n",
      "33  game  6  done!\n",
      "33  game  7  done!\n",
      "33  game  8  done!\n",
      "33  game  9  done!\n",
      "33  game  10  done!\n",
      "33  game  11  done!\n",
      "33  game  12  done!\n",
      "33  game  13  done!\n",
      "33  game  14  done!\n",
      "33  game  15  done!\n",
      "33  game  16  done!\n",
      "34  game  1  done!\n",
      "34  game  2  done!\n",
      "34  game  3  done!\n",
      "34  game  4  done!\n",
      "34  game  5  done!\n",
      "34  game  6  done!\n",
      "34  game  7  done!\n",
      "34  game  8  done!\n",
      "34  game  9  done!\n",
      "34  game  10  done!\n",
      "34  game  11  done!\n",
      "34  game  12  done!\n",
      "34  game  13  done!\n",
      "34  game  14  done!\n",
      "34  game  15  done!\n",
      "34  game  16  done!\n",
      "35  game  1  done!\n",
      "35  game  2  done!\n",
      "35  game  3  done!\n",
      "35  game  4  done!\n",
      "35  game  5  done!\n",
      "35  game  6  done!\n",
      "35  game  7  done!\n",
      "35  game  8  done!\n",
      "35  game  9  done!\n",
      "35  game  10  done!\n",
      "35  game  11  done!\n",
      "35  game  12  done!\n",
      "35  game  13  done!\n",
      "35  game  14  done!\n",
      "35  game  15  done!\n",
      "35  game  16  done!\n",
      "36  game  1  done!\n",
      "36  game  2  done!\n",
      "36  game  3  done!\n",
      "36  game  4  done!\n",
      "36  game  5  done!\n",
      "36  game  6  done!\n",
      "36  game  7  done!\n",
      "36  game  8  done!\n",
      "36  game  9  done!\n",
      "36  game  10  done!\n",
      "36  game  11  done!\n",
      "36  game  12  done!\n",
      "36  game  13  done!\n",
      "36  game  14  done!\n",
      "36  game  15  done!\n",
      "36  game  16  done!\n",
      "DONE\n"
     ]
    }
   ],
   "source": [
    "for PID_string in (PIDs):\n",
    "\n",
    "    PID_int = int(PID_string)\n",
    "    PID = \"G\"+PID_string\n",
    "    z0 = 0 #counts the low noise mean radius of each game within a subject\n",
    "    z1 = 0 #counts the high noise mean radius of each game within a subject\n",
    "    for game_nr in (game_nrs):\n",
    "        data = read_data(PID, game_nr, phase)\n",
    "        #print(\"Data: \", data) #Uncomment this line to print\n",
    "        y0 = 0 # counts the mean radii of each trial within a game when you have low noise\n",
    "        y1 = 0 # counts the mean radii of each trial within a game when you have high noise\n",
    "        for trial_nr in (trial_nrs):\n",
    "            draw_heatmap_trial(data,PID,game_nr,trial_nr)\n",
    "            image_name = 'output_images/{}_{}_{}_heatmap.png'.format(PID, game_nr, trial_nr) # name of the image you want to load\n",
    "            #print(image_name)\n",
    "            centers,radii,image_out = return_centroid_heatmap(image_name)\n",
    "            matplotlib.pyplot.close()\n",
    "            #print(\"Radii: \", radii)\n",
    "            if len(radii) == 0:\n",
    "                radii = nan\n",
    "            elif len(radii) >= 2:\n",
    "                x = 0 #counts each radii\n",
    "                for i in range(0,len(radii)):\n",
    "                    x = x+radii[i]\n",
    "                radii = [x/len(radii)]\n",
    "            #print(\"Radii: \", radii)\n",
    "            dataRowNoise = 1 + (PID_int-2)*(18*16) + (game_nr-1)*18 + trial_nr\n",
    "            if not type(radii) == float:\n",
    "                if noise_list[dataRowNoise] == 6:\n",
    "                    y0 = y0 + radii[0] #low noise\n",
    "                elif noise_list[dataRowNoise] == 18:\n",
    "                    y1 = y1 + radii[0] #high noise\n",
    "        y0 = y0/len(trial_nrs) #this is the average radius for a low noise game\n",
    "        y1 = y1/len(trial_nrs) #this is the average radius for a high noise game\n",
    "        #y = y1-y0 #delta value\n",
    "        #dataRow2 = 1 + (PID_int-2)*(16) + game_nr #row nr in the csv file for games\n",
    "        #radii_list2[dataRow2] = y\n",
    "        z0 = z0+y0 #low noise\n",
    "        z1 = z1+y1 #high noise\n",
    "        print(PID_int, \" game \", game_nr, \" done!\")\n",
    "    z0 = z0/len(game_nrs)\n",
    "    z1 = z1/len(game_nrs)\n",
    "    z=z1-z0 #delta value\n",
    "    dataRow = PID_int-2 #row nr in the csv file for games\n",
    "    radii_list[dataRow] = z\n",
    "    df['delta_radius'] = radii_list\n",
    "    df.to_csv(\"results_data_subjects_V2.csv\", index=False)\n",
    "\n",
    "#df2['delta_radii'] = radii_list2\n",
    "#df2.to_csv(\"results_data_games_V1.csv\", index=False)\n",
    "print(\"DONE\")"
   ]
  },
  {
   "cell_type": "code",
   "execution_count": null,
   "id": "million-fleece",
   "metadata": {},
   "outputs": [],
   "source": [
    "\n"
   ]
  }
 ],
 "metadata": {
  "kernelspec": {
   "display_name": "Python 3",
   "language": "python",
   "name": "python3"
  },
  "language_info": {
   "codemirror_mode": {
    "name": "ipython",
    "version": 3
   },
   "file_extension": ".py",
   "mimetype": "text/x-python",
   "name": "python",
   "nbconvert_exporter": "python",
   "pygments_lexer": "ipython3",
   "version": "3.9.2"
  }
 },
 "nbformat": 4,
 "nbformat_minor": 5
}
