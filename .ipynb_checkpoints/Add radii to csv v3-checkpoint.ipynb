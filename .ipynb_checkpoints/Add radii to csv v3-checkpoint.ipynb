{
 "cells": [
  {
   "cell_type": "markdown",
   "id": "occupational-reading",
   "metadata": {},
   "source": [
    "## Add radii to csv\n",
    "\n",
    "This script adds the average radii for each participant to csv for further analysis (i.e. linear regression) using R."
   ]
  },
  {
   "cell_type": "code",
   "execution_count": 1,
   "id": "fifteen-apple",
   "metadata": {},
   "outputs": [],
   "source": [
    "#Import all functions \n",
    "from pygazeanalyser_functions import *\n",
    "\n",
    "#import csv library and pandas\n",
    "import csv\n",
    "import pandas as pd\n",
    "import matplotlib"
   ]
  },
  {
   "cell_type": "code",
   "execution_count": 4,
   "id": "young-dining",
   "metadata": {
    "scrolled": true
   },
   "outputs": [
    {
     "name": "stdout",
     "output_type": "stream",
     "text": [
      "list:  [nan, nan, nan, nan, nan, nan, nan, nan, nan, nan, nan, nan, nan, nan, nan, nan, nan, nan, nan, nan, nan, nan, nan, nan, nan, nan, nan, nan, nan, nan, nan, nan, nan, nan, nan]\n"
     ]
    }
   ],
   "source": [
    "#participant details\n",
    "\n",
    "PIDs = [\"002\",\"003\",\"004\",\"005\",\"006\",\"007\",\"008\",\"009\",\"010\",\n",
    "        \"011\",\"012\",\"013\",\"014\",\"015\",\"016\",\"017\",\"018\",\"019\",\"020\",\n",
    "        \"021\",\"022\",\"023\",\"024\",\"025\",\"026\",\"027\",\"028\",\"029\",\"030\",\n",
    "        \"031\",\"032\",\"033\",\"034\",\"035\",\"036\"] #all the participant IDs\n",
    "PIDs = [\"004\",\"005\"]\n",
    "game_nrs  = [1,2,3,4,5,6,7,8,9,10,11,12,13,14,15,16] #game numbers\n",
    "trial_nrs = [0,1,2,3,4,5,6,7,8,9,10,11,12,13,14,15] #trial 16 and 17 are \"out of index\"\n",
    "phase = 'fixation'\n",
    "lenData = 35 #we have 35 participants\n",
    "dataCol = 1 #coloumn nr of \"Delta_radius\" in the new csv file, actually 2, but python starts with index 0\n",
    "\n",
    "#if the csv file doesn't exist yet:\n",
    "#with open(\"foo.csv\", \"w\") as my_empty_csv:\n",
    "#  # now you have an empty file\n",
    "#  pass  # or write something to it\n",
    "\n",
    "df = pd.read_csv(\"results_data_subjects.csv\") #this is the output csv for delta mean radius by subject\n",
    "#df2 = pd.read_csv(\"results_data_games.csv\") #this is the output csv for delta mean radius by game\n",
    "df_original = pd.read_csv(\"noise_data_trials.csv\") #this is the input csv containing information about the noise\n",
    "#print(df)\n",
    "#print(df_original)\n",
    "\n",
    "radii_list = df['delta_radius']\n",
    "#radii_list2 = df2['delta_radius']\n",
    "noise_list = df_original['perc_noise']\n",
    "radii_list = radii_list.values.tolist()\n",
    "#radii_list2 = radii_list2.values.tolist()\n",
    "noise_list = noise_list.values.tolist()\n",
    "print(\"list: \", radii_list)\n",
    "\n",
    "nan = radii_list[34] #save nan as nan, only if the delta_radii in the output was empty in the beginning\n",
    "#nan = \"nan\""
   ]
  },
  {
   "cell_type": "code",
   "execution_count": null,
   "id": "greenhouse-caribbean",
   "metadata": {},
   "outputs": [
    {
     "name": "stdout",
     "output_type": "stream",
     "text": [
      "4  game  1  done!\n"
     ]
    },
    {
     "name": "stderr",
     "output_type": "stream",
     "text": [
      "c:\\users\\sijam\\appdata\\local\\programs\\python\\python39\\lib\\site-packages\\numpy\\core\\fromnumeric.py:3419: RuntimeWarning: Mean of empty slice.\n",
      "  return _methods._mean(a, axis=axis, dtype=dtype,\n",
      "c:\\users\\sijam\\appdata\\local\\programs\\python\\python39\\lib\\site-packages\\numpy\\core\\_methods.py:188: RuntimeWarning: invalid value encountered in double_scalars\n",
      "  ret = ret.dtype.type(ret / rcount)\n"
     ]
    }
   ],
   "source": [
    "for PID_string in (PIDs):\n",
    "\n",
    "    PID_int = int(PID_string)\n",
    "    PID = \"G\"+PID_string\n",
    "    z0 = 0 #counts the low noise mean radius of each game within a subject\n",
    "    z1 = 0 #counts the high noise mean radius of each game within a subject\n",
    "    list_lowpergame = []\n",
    "    list_highpergame = []\n",
    "    for game_nr in (game_nrs):\n",
    "        data = read_data(PID, game_nr, phase)\n",
    "        #print(\"Data: \", data) #Uncomment this line to print\n",
    "        y0 = 0 # counts the mean radii of each trial within a game when you have low noise\n",
    "        y1 = 0 # counts the mean radii of each trial within a game when you have high noise\n",
    "        list_low =[]\n",
    "        list_high =[]\n",
    "        for trial_nr in (trial_nrs):\n",
    "            draw_heatmap_trial(data,PID,game_nr,trial_nr)\n",
    "            image_name = 'output_images/{}_{}_{}_heatmap.png'.format(PID, game_nr, trial_nr) # name of the image you want to load\n",
    "            #print(image_name)\n",
    "            centers,radii,image_out = return_centroid_heatmap(image_name)\n",
    "            matplotlib.pyplot.close()\n",
    "            #print(\"Radii: \", radii)\n",
    "            if len(radii) == 0:\n",
    "                radii = nan\n",
    "            elif len(radii) >= 2:\n",
    "                x = 0 #counts each radii\n",
    "                for i in range(0,len(radii)):\n",
    "                    #print(\"radii \", i , \"is \", radii[i])\n",
    "                    x = x+radii[i]\n",
    "                radii = [x/len(radii)]\n",
    "            #print(\"Radii: \", radii)\n",
    "            dataRowNoise = 1 + (PID_int-2)*(18*16) + (game_nr-1)*18 + trial_nr\n",
    "            if not type(radii) == float:\n",
    "                if noise_list[dataRowNoise] == 6:\n",
    "                    y0 = y0 + radii[0] #low noise\n",
    "                    list_low.append(radii[0])\n",
    "                elif noise_list[dataRowNoise] == 18:\n",
    "                    y1 = y1 + radii[0] #high noise\n",
    "                    list_high.append(radii[0])\n",
    "        list_lowpergame.append(list_low)\n",
    "        list_highpergame.append(list_high)\n",
    "        y0 = y0/len(trial_nrs) #this is the average radius for a low noise game\n",
    "        y1 = y1/len(trial_nrs) #this is the average radius for a high noise game\n",
    "        #y = y1-y0 #delta value\n",
    "        #dataRow2 = 1 + (PID_int-2)*(16) + game_nr #row nr in the csv file for games\n",
    "        #radii_list2[dataRow2] = y\n",
    "        z0 = z0+y0 #low noise\n",
    "        z1 = z1+y1 #high noise\n",
    "        print(PID_int, \" game \", game_nr, \" done!\")\n",
    "    z0 = z0/len(game_nrs)\n",
    "    z1 = z1/len(game_nrs)\n",
    "    z=z1-z0 #delta value\n",
    "    dataRow = PID_int-2 #row nr in the csv file for games\n",
    "    radii_list[dataRow] = z\n",
    "\n",
    "df['delta_radii'] = radii_list\n",
    "#df2['delta_radii'] = radii_list2\n",
    "print(df)\n",
    "df.to_csv(\"results_data_subjects_V1.csv\", index=False)\n",
    "#df2.to_csv(\"results_data_games_V1.csv\", index=False)\n",
    "print(\"DONE\")"
   ]
  },
  {
   "cell_type": "code",
   "execution_count": null,
   "id": "million-fleece",
   "metadata": {},
   "outputs": [],
   "source": [
    "\n"
   ]
  }
 ],
 "metadata": {
  "kernelspec": {
   "display_name": "Python 3",
   "language": "python",
   "name": "python3"
  },
  "language_info": {
   "codemirror_mode": {
    "name": "ipython",
    "version": 3
   },
   "file_extension": ".py",
   "mimetype": "text/x-python",
   "name": "python",
   "nbconvert_exporter": "python",
   "pygments_lexer": "ipython3",
   "version": "3.9.2"
  }
 },
 "nbformat": 4,
 "nbformat_minor": 5
}
