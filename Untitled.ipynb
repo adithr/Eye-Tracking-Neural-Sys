{
 "cells": [
  {
   "cell_type": "code",
   "execution_count": 1,
   "metadata": {},
   "outputs": [
    {
     "ename": "NameError",
     "evalue": "name 'np' is not defined",
     "output_type": "error",
     "traceback": [
      "\u001b[1;31m---------------------------------------------------------------------------\u001b[0m",
      "\u001b[1;31mNameError\u001b[0m                                 Traceback (most recent call last)",
      "\u001b[1;32m<ipython-input-1-0dec861855fe>\u001b[0m in \u001b[0;36m<module>\u001b[1;34m\u001b[0m\n\u001b[0;32m      1\u001b[0m \u001b[1;31m#plot\u001b[0m\u001b[1;33m\u001b[0m\u001b[1;33m\u001b[0m\u001b[1;33m\u001b[0m\u001b[0m\n\u001b[0;32m      2\u001b[0m \u001b[1;31m#fig,ax = plt.subplots(figsize =(10,10))\u001b[0m\u001b[1;33m\u001b[0m\u001b[1;33m\u001b[0m\u001b[1;33m\u001b[0m\u001b[0m\n\u001b[1;32m----> 3\u001b[1;33m \u001b[0mduration_max\u001b[0m \u001b[1;33m=\u001b[0m \u001b[0mnp\u001b[0m\u001b[1;33m.\u001b[0m\u001b[0mmax\u001b[0m\u001b[1;33m(\u001b[0m\u001b[0mduration\u001b[0m\u001b[1;33m)\u001b[0m\u001b[1;33m\u001b[0m\u001b[1;33m\u001b[0m\u001b[0m\n\u001b[0m\u001b[0;32m      4\u001b[0m \u001b[1;31m#ax.grid()\u001b[0m\u001b[1;33m\u001b[0m\u001b[1;33m\u001b[0m\u001b[1;33m\u001b[0m\u001b[0m\n\u001b[0;32m      5\u001b[0m \u001b[1;31m#for d,x1,y1,x2,y2 in plt_data:\u001b[0m\u001b[1;33m\u001b[0m\u001b[1;33m\u001b[0m\u001b[1;33m\u001b[0m\u001b[0m\n",
      "\u001b[1;31mNameError\u001b[0m: name 'np' is not defined"
     ]
    }
   ],
   "source": [
    "#plot\n",
    "#fig,ax = plt.subplots(figsize =(10,10))\n",
    "duration_max = np.max(duration)\n",
    "#ax.grid()\n",
    "#for d,x1,y1,x2,y2 in plt_data:\n",
    "    #linewidth = duration/duration_max * 100\n",
    "    #plt.plot(x1,y1,x2,y2,marker='o')\n",
    "    #plt.scatter(x_end,y_end,'go-',linewidth=linewidth)\n",
    "\n",
    "plt.plot(x_start,y_start,x_end,y_end,marker='o')\n",
    "#plt.show()"
   ]
  },
  {
   "cell_type": "code",
   "execution_count": null,
   "metadata": {},
   "outputs": [],
   "source": [
    "#plot\n",
    "fig,ax = plt.subplots(figsize =(10,10))\n",
    "duration_max = np.max(duration)\n",
    "ax.grid()\n",
    "for duration,x,y in plt_data:\n",
    "    marker_size = duration/duration_max * 100\n",
    "    ax.scatter(x,y,s=marker_size,c='red')\n"
   ]
  },
  {
   "cell_type": "code",
   "execution_count": null,
   "metadata": {},
   "outputs": [],
   "source": [
    "#Retrieve ESac list ([starttime, endtime, duration, startx, starty, endx, endy])\n",
    "Esac = np.array(data[0]['events']['Esac'])\n",
    "\n",
    "\n",
    "#Retrieve duration,endx,endy\n",
    "plt_data = Esac[:,2:]\n",
    "duration = plt_data[:,0] \n",
    "x_start = plt_data[:,1] \n",
    "y_start = plt_data[:,2]\n",
    "x_end = plt_data[:,3]\n",
    "y_end = plt_data[:,4]\n",
    "\n",
    "#plot\n",
    "#fig,ax = plt.subplots(figsize =(10,10))\n",
    "duration_max = np.max(duration)\n",
    "#ax.grid()\n",
    "#for d,x1,y1,x2,y2 in plt_data:\n",
    "    #linewidth = duration/duration_max * 100\n",
    "    #plt.plot(x1,y1,x2,y2,marker='o')\n",
    "    #plt.scatter(x_end,y_end,'go-',linewidth=linewidth)\n",
    "\n",
    "plt.plot(x_start,y_start,x_end,y_end,marker='o')\n",
    "#plt.show()\n",
    "\n",
    "x_new = np.array([x_start,x_end]).reshape(2,-1).T.reshape(-1)\n",
    "y_new = np.array([y_start,y_end]).reshape(2,-1).T.reshape(-1)\n",
    "\n",
    "plt.plot(x_new,y_new,'-go')"
   ]
  }
 ],
 "metadata": {
  "kernelspec": {
   "display_name": "Python 3",
   "language": "python",
   "name": "python3"
  },
  "language_info": {
   "codemirror_mode": {
    "name": "ipython",
    "version": 3
   },
   "file_extension": ".py",
   "mimetype": "text/x-python",
   "name": "python",
   "nbconvert_exporter": "python",
   "pygments_lexer": "ipython3",
   "version": "3.8.5"
  }
 },
 "nbformat": 4,
 "nbformat_minor": 4
}
